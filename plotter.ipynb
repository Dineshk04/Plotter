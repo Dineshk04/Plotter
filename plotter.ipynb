{
 "cells": [
  {
   "cell_type": "code",
   "execution_count": null,
   "metadata": {},
   "outputs": [],
   "source": [
    "import numpy as np\n",
    "import pandas as pd\n",
    "import seaborn as sns\n",
    "import matplotlib as plt\n",
    "import plotly as pl\n",
    "import plotly.offline as po\n",
    "import plotly.graph_objs as pg\n",
    "import cufflinks as cf\n",
    "%matplotlib inline"
   ]
  },
  {
   "cell_type": "code",
   "execution_count": null,
   "metadata": {},
   "outputs": [],
   "source": [
    "po.init_notebook_mode(connected=True)\n",
    "cf.go_offline()"
   ]
  },
  {
   "cell_type": "code",
   "execution_count": null,
   "metadata": {},
   "outputs": [],
   "source": [
    "def createdataframe(data):\n",
    "    if(data == 1):\n",
    "        x = np.random.rand(100,5)\n",
    "        df1 = pd.DataFrame(x,columns = ['a','b','c','d','e'])\n",
    "    elif(data == 2):\n",
    "        x = [0,0,0,0,0]\n",
    "        r1 = [0,0,0,0,0]\n",
    "        r2 = [0,0,0,0,0]\n",
    "        r3 = [0,0,0,0,0]\n",
    "        r4 = [0,0,0,0,0]\n",
    "        print(\"Enter the values of column:\")\n",
    "        for i in range(0,5):\n",
    "            x[i] = input()\n",
    "        print(\"Enter the values of row1:\")\n",
    "        for i in range(0,5):\n",
    "            r1[i] = int(input())\n",
    "        print(\"Enter the values of row2:\")\n",
    "        for i in range(0,5):\n",
    "            r2[i] = int(input())\n",
    "        print(\"Enter the values of row3:\")\n",
    "        for i in range(0,5):\n",
    "            r3[i] = int(input())\n",
    "        print(\"Enter the values of row4:\")\n",
    "        for i in range(0,5):\n",
    "            r4[i] = int(input())\n",
    "        df1 = pd.DataFrame([r1,r2,r3,r4],columns = x)\n",
    "    elif(data == 3):\n",
    "        file = input(\"Enter the file name:\")\n",
    "        x = pd.read_csv(file)\n",
    "        df1 = pd.DataFrame(x)\n",
    "    else:\n",
    "        print(\"Enter a number between 1-3\")\n",
    "    return df1"
   ]
  },
  {
   "cell_type": "code",
   "execution_count": null,
   "metadata": {},
   "outputs": [],
   "source": [
    "def plotter(plot):\n",
    "    if(plot == 1):\n",
    "        fp = df.iplot()\n",
    "    elif(plot == 2):\n",
    "        fp = df.iplot(kind='scatter',mode='markers')\n",
    "    elif(plot == 3):\n",
    "        fp = df.iplot(kind='bar')\n",
    "    elif(plot == 4):\n",
    "        fp = df.iplot(kind='histogram')\n",
    "    elif(plot == 5):\n",
    "        fp = df.iplot(kind='box')\n",
    "    elif(plot == 6):\n",
    "        fp = df.iplot(kind='surface')\n",
    "    else:\n",
    "        fp = print(\"Select between 1-6\")\n",
    "    return fp"
   ]
  },
  {
   "cell_type": "code",
   "execution_count": null,
   "metadata": {},
   "outputs": [],
   "source": [
    "def plotter2(plot):\n",
    "    col = input(\"Enter the number of columns you want to plot between 1,2,3\")\n",
    "    col = int(col)\n",
    "    if(col == 1):\n",
    "        cl = input(\"Enter a column to be ploted by refering the dataframe head\")\n",
    "        \n",
    "        if(plot == 1):\n",
    "            fp = df[cl].iplot()\n",
    "        elif(plot == 2):\n",
    "            fp = df[cl].iplot(kind='scatter',mode='markers')\n",
    "        elif(plot == 3):\n",
    "            fp = df[cl].iplot(kind='bar')\n",
    "        elif(plot == 4):\n",
    "            fp = df[cl].iplot(kind='histogram')\n",
    "        elif(plot == 5):\n",
    "            fp = df[cl].iplot(kind='box')\n",
    "        elif(plot == 6 or plot == 7):\n",
    "            fp = print(\"surface and bubble plot require more than one column value!\")\n",
    "        else:\n",
    "            fp = print(\"Select between 1-7\")\n",
    "    elif(col == 2):\n",
    "        print(\"Enter 2 columns to be ploted by refering the dataframe head\")\n",
    "        x = input(\"column 1:\")\n",
    "        y = input(\"column 2:\")\n",
    "        if(plot == 1):\n",
    "            fp = df[[x,y]].iplot()\n",
    "        elif(plot == 2):\n",
    "            fp = df[[x,y]].iplot(kind='scatter',mode='markers')\n",
    "        elif(plot == 3):\n",
    "            fp = df[[x,y]].iplot(kind='bar')\n",
    "        elif(plot == 4):\n",
    "            fp = df[[x,y]].iplot(kind='histogram')\n",
    "        elif(plot == 5):\n",
    "            fp = df[x,y].iplot(kind='box')\n",
    "        elif(plot == 6):\n",
    "            fp = df[[x,y]].iplot(kind='surface')\n",
    "        elif(plot == 7):\n",
    "            s = input(\"enter the size column:\")\n",
    "            fp = df.iplot(kind='bubble',x = x,y = y,size = s)\n",
    "        else:\n",
    "            fp = print(\"Select between 1-7\")\n",
    "    elif(col == 3):\n",
    "        print(\"Enter 3 columns to be ploted by refering the dataframe head\")\n",
    "        x = input(\"column 1:\")\n",
    "        y = input(\"column 2:\")\n",
    "        z = input(\"column 3:\")\n",
    "        if(plot == 1):\n",
    "            fp = df[[x,y,z]].iplot()\n",
    "        elif(plot == 2):\n",
    "            fp = df[[x,y,z]].iplot(kind='scatter',mode='markers')\n",
    "        elif(plot == 3):\n",
    "            fp = df[[x,y,z]].iplot(kind='bar')\n",
    "        elif(plot == 4):\n",
    "            fp = df[[x,y,z]].iplot(kind='histogram')\n",
    "        elif(plot == 5):\n",
    "            fp = df[x,y,z].iplot(kind='box')\n",
    "        elif(plot == 6):\n",
    "            fp = df[[x,y,z]].iplot(kind='surface')\n",
    "        elif(plot == 7):\n",
    "            s = input(\"enter the size column:\")\n",
    "            fp = df.iplot(kind='bubble',x = x,y = y,z = z,size = s)\n",
    "        else:\n",
    "            fp = print(\"Select between 1-7\")\n",
    "    else:\n",
    "        fp = print(\"select between 1-3\")\n",
    "    return fp"
   ]
  },
  {
   "cell_type": "code",
   "execution_count": null,
   "metadata": {},
   "outputs": [],
   "source": [
    "def main(cat):\n",
    "    if(cat == 1):\n",
    "        print(\"Select the type of plot (1-6):\")\n",
    "        print(\"1.Line plot\")\n",
    "        print(\"2.Scatter plot\")\n",
    "        print(\"3.Bar plot\")\n",
    "        print(\"4.Histogram\")\n",
    "        print(\"5.Box plot\")\n",
    "        print(\"6.Surface plot\")\n",
    "        plot = int(input())\n",
    "        op = plotter(plot)\n",
    "    elif(cat == 2):\n",
    "        print(\"Select the type of plot (1-6):\")\n",
    "        print(\"1.Line plot\")\n",
    "        print(\"2.Scatter plot\")\n",
    "        print(\"3.Bar plot\")\n",
    "        print(\"4.Histogram\")\n",
    "        print(\"5.Box plot\")\n",
    "        print(\"6.Surface plot\")\n",
    "        print(\"7.Bubble plot\")\n",
    "        plot = int(input())\n",
    "        op = plotter2(plot)\n",
    "    else:\n",
    "        print(\"select 1 or 2!\")"
   ]
  },
  {
   "cell_type": "code",
   "execution_count": null,
   "metadata": {
    "scrolled": true
   },
   "outputs": [],
   "source": [
    "print(\"Select the type of data you need to plot (1-3)\")\n",
    "print(\"1) Random data with 100 rows and 5 columns.\")\n",
    "print(\"2) Customize dataframe with 5 rows and 4 columns.\")\n",
    "print(\"3) Upload a csv file.\")\n",
    "data = int(input())\n",
    "df = createdataframe(data)"
   ]
  },
  {
   "cell_type": "code",
   "execution_count": null,
   "metadata": {},
   "outputs": [],
   "source": [
    "print(\"Your dataframe head is given below use it to plot\")\n",
    "df.head()"
   ]
  },
  {
   "cell_type": "code",
   "execution_count": null,
   "metadata": {},
   "outputs": [],
   "source": [
    "print(\"Select whether to plot all columns or specified columns\")\n",
    "print(\"1 for all columns and 2 for specified columns\")\n",
    "cat = int(input())"
   ]
  },
  {
   "cell_type": "code",
   "execution_count": null,
   "metadata": {},
   "outputs": [],
   "source": [
    "main(cat)"
   ]
  },
  {
   "cell_type": "code",
   "execution_count": null,
   "metadata": {},
   "outputs": [],
   "source": []
  }
 ],
 "metadata": {
  "kernelspec": {
   "display_name": "Python 3",
   "language": "python",
   "name": "python3"
  },
  "language_info": {
   "codemirror_mode": {
    "name": "ipython",
    "version": 3
   },
   "file_extension": ".py",
   "mimetype": "text/x-python",
   "name": "python",
   "nbconvert_exporter": "python",
   "pygments_lexer": "ipython3",
   "version": "3.7.6"
  }
 },
 "nbformat": 4,
 "nbformat_minor": 4
}
